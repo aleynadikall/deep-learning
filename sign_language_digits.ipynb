{
 "cells": [
  {
   "cell_type": "code",
   "execution_count": 37,
   "id": "74b8557f",
   "metadata": {},
   "outputs": [],
   "source": [
    "import numpy as np\n",
    "import pandas as pd\n",
    "import matplotlib.pyplot as plt"
   ]
  },
  {
   "cell_type": "code",
   "execution_count": 38,
   "id": "3ed31e7f",
   "metadata": {},
   "outputs": [
    {
     "data": {
      "text/plain": [
       "(-0.5, 63.5, 63.5, -0.5)"
      ]
     },
     "execution_count": 38,
     "metadata": {},
     "output_type": "execute_result"
    },
    {
     "data": {
      "image/png": "[encoded data removed]",
      "text/plain": [
       "<Figure size 640x480 with 2 Axes>"
      ]
     },
     "metadata": {},
     "output_type": "display_data"
    }
   ],
   "source": [
    "X = np.load(\"X.npy\")\n",
    "Y = np.load(\"Y.npy\")\n",
    "img_size = 64\n",
    "plt.subplot(1,2,1)\n",
    "plt.imshow(X[200].reshape(img_size,img_size))\n",
    "plt.axis(\"off\")\n",
    "plt.subplot(1,2,2)\n",
    "plt.imshow(X[400].reshape(img_size, img_size))\n",
    "plt.axis(\"off\")"
   ]
  },
  {
   "cell_type": "code",
   "execution_count": 39,
   "id": "f4a17ec5",
   "metadata": {},
   "outputs": [
    {
     "data": {
      "text/plain": [
       "(2062, 64, 64)"
      ]
     },
     "execution_count": 39,
     "metadata": {},
     "output_type": "execute_result"
    }
   ],
   "source": [
    "X.shape"
   ]
  },
  {
   "cell_type": "code",
   "execution_count": 40,
   "id": "3d45a7b0",
   "metadata": {},
   "outputs": [
    {
     "name": "stdout",
     "output_type": "stream",
     "text": [
      "x shape : (410, 64, 64)\n",
      "y shape : (410, 1)\n"
     ]
    }
   ],
   "source": [
    "x = np.concatenate((X[204:409], X[822:1027]), axis = 0)\n",
    "Z = np.zeros(205)\n",
    "o = np.ones(205)\n",
    "y = np.concatenate((Z, o), axis = 0).reshape(x.shape[0],1)\n",
    "print(\"x shape :\", x.shape)\n",
    "print(\"y shape :\", y.shape)"
   ]
  },
  {
   "cell_type": "code",
   "execution_count": 41,
   "id": "bd792eb7",
   "metadata": {},
   "outputs": [
    {
     "name": "stdout",
     "output_type": "stream",
     "text": [
      "348\n",
      "62\n"
     ]
    }
   ],
   "source": [
    "from sklearn.model_selection import train_test_split\n",
    "X_train, X_test, y_train, y_test = train_test_split(x, y, test_size=0.15, random_state=42)\n",
    "number_of_train = X_train.shape[0]\n",
    "number_of_test = X_test.shape[0]\n",
    "print(number_of_train)\n",
    "print(number_of_test)"
   ]
  },
  {
   "cell_type": "code",
   "execution_count": 42,
   "id": "35cd32ad",
   "metadata": {},
   "outputs": [],
   "source": [
    "#X_train.shape[1]   #64\n",
    "#X_train.shape[2]   #64"
   ]
  },
  {
   "cell_type": "code",
   "execution_count": 43,
   "id": "a12baa90",
   "metadata": {},
   "outputs": [
    {
     "name": "stdout",
     "output_type": "stream",
     "text": [
      "X train flatten\n",
      " (348, 4096)\n",
      "\n",
      "X test flatten\n",
      " (62, 4096)\n"
     ]
    }
   ],
   "source": [
    "X_train_flatten = X_train.reshape(number_of_train, X_train.shape[1] * X_train.shape[2])\n",
    "X_test_flatten = X_test.reshape(number_of_test, X_test.shape[1] * X_test.shape[2])\n",
    "print(\"X train flatten\\n\", X_train_flatten.shape)\n",
    "print(\"\\nX test flatten\\n\", X_test_flatten.shape)"
   ]
  },
  {
   "cell_type": "code",
   "execution_count": 44,
   "id": "c3480dbc",
   "metadata": {},
   "outputs": [
    {
     "name": "stdout",
     "output_type": "stream",
     "text": [
      "x train:  (4096, 348)\n",
      "x test:  (4096, 62)\n",
      "y train:  (1, 348)\n",
      "y test:  (1, 62)\n"
     ]
    }
   ],
   "source": [
    "#Matrisleri çarpabilmek için transpoz alma işlemi yaptık.\n",
    "x_train = X_train_flatten.T\n",
    "x_test = X_test_flatten.T\n",
    "y_train_t = y_train.T\n",
    "y_test_t = y_test.T\n",
    "\n",
    "print(\"x train: \",x_train.shape)\n",
    "print(\"x test: \",x_test.shape)\n",
    "print(\"y train: \",y_train_t.shape)\n",
    "print(\"y test: \",y_test_t.shape)"
   ]
  },
  {
   "cell_type": "markdown",
   "id": "69145318",
   "metadata": {},
   "source": [
    "#### Initializing Parameters "
   ]
  },
  {
   "cell_type": "code",
   "execution_count": 45,
   "id": "42d99bfa",
   "metadata": {},
   "outputs": [
    {
     "name": "stdout",
     "output_type": "stream",
     "text": [
      "8\n"
     ]
    }
   ],
   "source": [
    "def dummy(parameter):\n",
    "    dummy_parameter = parameter + 5\n",
    "    return dummy_parameter\n",
    "result = dummy(3)\n",
    "print(result)"
   ]
  },
  {
   "cell_type": "code",
   "execution_count": 46,
   "id": "a964df36",
   "metadata": {},
   "outputs": [],
   "source": [
    "# dimension = 4096\n",
    "def initialize_weights_and_bias(dimension):\n",
    "    # 4096x1'lik bir matris oluşturacak bu matrisin içine 0.01 sayısını koyar.\n",
    "    w = np.full((dimension,1),0.01)\n",
    "    b = 0.0\n",
    "    return w, b"
   ]
  },
  {
   "cell_type": "markdown",
   "id": "790cf11c",
   "metadata": {},
   "source": [
    "#### Forward Propagation"
   ]
  },
  {
   "cell_type": "code",
   "execution_count": 47,
   "id": "fb5ed122",
   "metadata": {},
   "outputs": [],
   "source": [
    "# calculation of z\n",
    "# z = np.dot(w.T, x_train) + b\n",
    "def sigmoid(z):\n",
    "    y_head = 1/(1+np.exp(-z))\n",
    "    return y_head"
   ]
  },
  {
   "cell_type": "code",
   "execution_count": 48,
   "id": "f521b9e6",
   "metadata": {},
   "outputs": [],
   "source": [
    "#y_head = sigmoid(10)"
   ]
  },
  {
   "cell_type": "code",
   "execution_count": 49,
   "id": "67aed47e",
   "metadata": {},
   "outputs": [],
   "source": [
    "#y_head"
   ]
  },
  {
   "cell_type": "code",
   "execution_count": 50,
   "id": "d076371d",
   "metadata": {},
   "outputs": [],
   "source": [
    "# Let's write forward propagation method\n",
    "\n",
    "def forward_propagation(w,b,x_train,y_train):\n",
    "    # np.dot() metodu sonuç olarak aldığı iki Numpy dizininin nokta çarpımı ya da bir diğer adıyla skaler çarpımını döndürür.\n",
    "    z = np.dot(w.T,x_train) + b\n",
    "    y_head = sigmoid(z)  # y_head 0 ve 1 arasında probabilistik bir değerdir.\n",
    "    loss = -y_train*np.log(y_head)-(1-y_train)*np.log(1-y_head)\n",
    "    cost = (np.sum(loss))/x_train.shape[1]      # x_train.shape[1]  is for scaling\n",
    "    return cost "
   ]
  },
  {
   "cell_type": "markdown",
   "id": "779bbf05",
   "metadata": {},
   "source": [
    "#### Backward Propagation"
   ]
  },
  {
   "cell_type": "code",
   "execution_count": 51,
   "id": "35e0c862",
   "metadata": {},
   "outputs": [],
   "source": [
    "# Therefore instead of writing backward propagation method, lets combine forward propagation and backward propagation.\n",
    "def forward_backward_propagation(w,b,x_train,y_train):\n",
    "    # forward propagation\n",
    "    z = np.dot(w.T,x_train) + b\n",
    "    y_head = sigmoid(z)\n",
    "    loss = -y_train*np.log(y_head)-(1-y_train)*np.log(1-y_head)\n",
    "    cost = (np.sum(loss))/x_train.shape[1]      # x_train.shape[1]  is for scaling\n",
    "    # backward propagation\n",
    "    # türev\n",
    "    # x_train.shape[1] benim sample sayım. Bunu yaparak scale etmiş oluyoruz. Scale etmediğimiz zaman belli bir yere kadar \n",
    "    # değerlerimiz yüksek çıkacak.Scale etmek bu yüzden bizim için iyi olur.\n",
    "    derivative_weight = (np.dot(x_train,((y_head-y_train).T)))/x_train.shape[1] # x_train.shape[1]  is for scaling\n",
    "    derivative_bias = np.sum(y_head-y_train)/x_train.shape[1]                 # x_train.shape[1]  is for scaling\n",
    "    gradients = {\"derivative_weight\": derivative_weight,\"derivative_bias\": derivative_bias}\n",
    "    # dictionary şeklinde return ediyoruz.\n",
    "    return cost,gradients"
   ]
  },
  {
   "cell_type": "markdown",
   "id": "944b308b",
   "metadata": {},
   "source": [
    "#### Update Parameters"
   ]
  },
  {
   "cell_type": "code",
   "execution_count": 52,
   "id": "ba62d718",
   "metadata": {},
   "outputs": [],
   "source": [
    "# Updating (Learning) parameters\n",
    "def update(w, b, x_train, y_train, learning_rate, number_of_iteration):\n",
    "    \n",
    "    # daha sonra görselleştirmede bize yardımcı olacak boş listelerimiz.\n",
    "    cost_list = []\n",
    "    cost_list2 = []\n",
    "    index = []\n",
    "    \n",
    "    # updating(learning) parameters are number_of_iteration times\n",
    "    for i in range(number_of_iteration):\n",
    "        # make forward propagation and backward propagation and find cost and gradients\n",
    "        cost, gradients = forward_backward_propagation(w, b, x_train, y_train)\n",
    "        cost_list.append(cost)\n",
    "        \n",
    "        #lets update\n",
    "        w = w - learning_rate * gradients[\"derivative_weight\"]\n",
    "        b = b - learning_rate * gradients[\"derivative_bias\"]\n",
    "        \n",
    "        if i % 10 == 0:\n",
    "            cost_list2.append(cost)\n",
    "            index.append(i)\n",
    "            print(\"Cost after iteration %i : %f\" %(i, cost))\n",
    "        \n",
    "    # we update(learn) parameters weights and bias\n",
    "    parameters = {\"weight\" : w, \"bias\" : b}\n",
    "    plt.plot(index, cost_list2)\n",
    "    plt.xticks(index, rotation = 'vertical')\n",
    "    plt.xlabel(\"Number of Iteration\")\n",
    "    plt.ylabel(\"Cost\")\n",
    "    plt.show()\n",
    "    return parameters, gradients, cost_list"
   ]
  },
  {
   "cell_type": "markdown",
   "id": "dc01b9e1",
   "metadata": {},
   "source": [
    "#### Prediction"
   ]
  },
  {
   "cell_type": "code",
   "execution_count": 53,
   "id": "f5132a04",
   "metadata": {},
   "outputs": [],
   "source": [
    "def predict(w,b, x_test):\n",
    "    # x_test is a input for forward propagation\n",
    "    z = sigmoid(np.dot(w.T, x_test) + b)\n",
    "    Y_prediction = np.zeros((1, x_test.shape[1]))\n",
    "    \n",
    "    # THRESHOLD\n",
    "    # if z is bigger than 0.5, our prediction is sign one (y_head = 1)\n",
    "    # if z is smaller than 0.5, our prediction is sign zero (y_head = 0)\n",
    "    for i in range(z.shape[1]):\n",
    "        if z[0,i] <= 0.5:\n",
    "            Y_prediction[0,i] = 0\n",
    "        else:\n",
    "            Y_prediction[0,i] = 1\n",
    "    return Y_prediction"
   ]
  },
  {
   "cell_type": "markdown",
   "id": "4884a5a1",
   "metadata": {},
   "source": [
    "#### Logistic Regression"
   ]
  },
  {
   "cell_type": "code",
   "execution_count": 54,
   "id": "9bf36ebf",
   "metadata": {},
   "outputs": [
    {
     "name": "stdout",
     "output_type": "stream",
     "text": [
      "Cost after iteration 0 : 14.014222\n",
      "Cost after iteration 10 : 2.544689\n",
      "Cost after iteration 20 : 2.577950\n",
      "Cost after iteration 30 : 2.397999\n",
      "Cost after iteration 40 : 2.185019\n",
      "Cost after iteration 50 : 1.968348\n",
      "Cost after iteration 60 : 1.754195\n",
      "Cost after iteration 70 : 1.535079\n",
      "Cost after iteration 80 : 1.297567\n",
      "Cost after iteration 90 : 1.031919\n",
      "Cost after iteration 100 : 0.737019\n",
      "Cost after iteration 110 : 0.441355\n",
      "Cost after iteration 120 : 0.252278\n",
      "Cost after iteration 130 : 0.205168\n",
      "Cost after iteration 140 : 0.196168\n"
     ]
    },
    {
     "data": {
      "image/png": "[encoded data removed]",
      "text/plain": [
       "<Figure size 640x480 with 1 Axes>"
      ]
     },
     "metadata": {},
     "output_type": "display_data"
    },
    {
     "name": "stdout",
     "output_type": "stream",
     "text": [
      "train accuracy : 92.816091954023 %\n",
      "test accuracy : 93.54838709677419 %\n"
     ]
    }
   ],
   "source": [
    "def logistic_regression(x_train, y_train, x_test, y_test, learning_rate, num_iterations):\n",
    "    \n",
    "    # initialize\n",
    "    dimension = x_train.shape[0]  # 4096\n",
    "    w, b = initialize_weights_and_bias(dimension)\n",
    "    \n",
    "    # don't change learning rate\n",
    "    parameters, gradients, cost_list = update(w, b, x_train, y_train, learning_rate, num_iterations)\n",
    "    \n",
    "    y_prediction_test = predict(parameters[\"weight\"], parameters[\"bias\"], x_test)\n",
    "    y_prediction_train = predict(parameters[\"weight\"], parameters[\"bias\"], x_train)\n",
    "    \n",
    "    # print train / test Errors\n",
    "    print(\"train accuracy : {} %\".format(100 - np.mean(np.abs(y_prediction_train - y_train)) * 100))\n",
    "    print(\"test accuracy : {} %\".format(100 - np.mean(np.abs(y_prediction_test - y_test)) * 100))\n",
    "    \n",
    "logistic_regression(x_train, y_train_t, x_test, y_test_t, learning_rate = 0.01, num_iterations = 150)"
   ]
  },
  {
   "cell_type": "markdown",
   "id": "fcc6f28d",
   "metadata": {},
   "source": [
    "#### Logistic Regression with Sklearn"
   ]
  },
  {
   "cell_type": "code",
   "execution_count": 55,
   "id": "78b1488e",
   "metadata": {},
   "outputs": [
    {
     "name": "stdout",
     "output_type": "stream",
     "text": [
      "test accuracy : 0.967741935483871\n"
     ]
    },
    {
     "name": "stderr",
     "output_type": "stream",
     "text": [
      "C:\\Users\\aleyy\\anaconda3\\lib\\site-packages\\sklearn\\utils\\validation.py:993: DataConversionWarning: A column-vector y was passed when a 1d array was expected. Please change the shape of y to (n_samples, ), for example using ravel().\n",
      "  y = column_or_1d(y, warn=True)\n",
      "C:\\Users\\aleyy\\anaconda3\\lib\\site-packages\\sklearn\\linear_model\\_logistic.py:814: ConvergenceWarning: lbfgs failed to converge (status=1):\n",
      "STOP: TOTAL NO. of ITERATIONS REACHED LIMIT.\n",
      "\n",
      "Increase the number of iterations (max_iter) or scale the data as shown in:\n",
      "    https://scikit-learn.org/stable/modules/preprocessing.html\n",
      "Please also refer to the documentation for alternative solver options:\n",
      "    https://scikit-learn.org/stable/modules/linear_model.html#logistic-regression\n",
      "  n_iter_i = _check_optimize_result(\n",
      "C:\\Users\\aleyy\\anaconda3\\lib\\site-packages\\sklearn\\utils\\validation.py:993: DataConversionWarning: A column-vector y was passed when a 1d array was expected. Please change the shape of y to (n_samples, ), for example using ravel().\n",
      "  y = column_or_1d(y, warn=True)\n"
     ]
    },
    {
     "name": "stdout",
     "output_type": "stream",
     "text": [
      "train accuracy : 1.0\n"
     ]
    },
    {
     "name": "stderr",
     "output_type": "stream",
     "text": [
      "C:\\Users\\aleyy\\anaconda3\\lib\\site-packages\\sklearn\\linear_model\\_logistic.py:814: ConvergenceWarning: lbfgs failed to converge (status=1):\n",
      "STOP: TOTAL NO. of ITERATIONS REACHED LIMIT.\n",
      "\n",
      "Increase the number of iterations (max_iter) or scale the data as shown in:\n",
      "    https://scikit-learn.org/stable/modules/preprocessing.html\n",
      "Please also refer to the documentation for alternative solver options:\n",
      "    https://scikit-learn.org/stable/modules/linear_model.html#logistic-regression\n",
      "  n_iter_i = _check_optimize_result(\n"
     ]
    }
   ],
   "source": [
    "from sklearn import linear_model\n",
    "logreg = linear_model.LogisticRegression(random_state=42, max_iter=150)\n",
    "print('test accuracy : {}'.format(logreg.fit(x_train.T, y_train_t.T).score(x_test.T, y_test_t.T)))\n",
    "print('train accuracy : {}'.format(logreg.fit(x_train.T, y_train_t.T).score(x_train.T, y_train_t.T)))"
   ]
  },
  {
   "cell_type": "markdown",
   "id": "87b0952b",
   "metadata": {},
   "source": [
    "### Artificial Neural Network (ANN)"
   ]
  },
  {
   "cell_type": "markdown",
   "id": "1a61b7bc",
   "metadata": {},
   "source": [
    "#### 2-Layer Neural Network"
   ]
  },
  {
   "cell_type": "code",
   "execution_count": 56,
   "id": "4582dadb",
   "metadata": {},
   "outputs": [],
   "source": [
    "# Size of Layers and Initializing parameters weights and bias\n",
    "def initialize_parameters_and_layer_sizes_NN(x_train, y_train):\n",
    "    parameters = {'weight1' : np.random.randn(3, x_train.shape[0]) * 0.1,\n",
    "                 'bias1' : np.zeros((3, 1)),\n",
    "                 'weight2' : np.random.randn(y_train.shape[0], 3) * 0.1,\n",
    "                 'bias2' : np.zeros((y_train.shape[0], 1))}\n",
    "    return parameters\n",
    "\n",
    "# weight1 * x_train (4096x1) = 3x1\n",
    "# weight1 : 3x4096\n",
    "\n",
    "# z[1] = w1 * X + b1\n",
    "# A[1] = tanh(z[1])\n",
    "\n",
    "# weight2 * A[1] = 1x1  -> output layer, tek node\n",
    "# bias1 : 3x1\n",
    "# weight2 : 1x3\n",
    "# bias2 : 1x1\n",
    "\n",
    "# z[2] = w2 * A[1] + b2\n",
    "# A[2] = σ(z[2])"
   ]
  },
  {
   "cell_type": "markdown",
   "id": "a4d48c9b",
   "metadata": {},
   "source": [
    "#### Forward Propagation"
   ]
  },
  {
   "cell_type": "code",
   "execution_count": 57,
   "id": "54731162",
   "metadata": {},
   "outputs": [],
   "source": [
    "def forward_propagation_NN(x_train, parameters):\n",
    "    Z1 = np.dot(parameters[\"weight1\"], x_train) + parameters[\"bias1\"]\n",
    "    A1 = np.tanh(Z1)\n",
    "    Z2 = np.dot(parameters[\"weight2\"], A1) + parameters[\"bias2\"]\n",
    "    A2 = sigmoid(Z2)\n",
    "    \n",
    "    cache = {\"Z1\" : Z1,\n",
    "             \"A1\" : A1,\n",
    "             \"Z2\" : Z2,\n",
    "             \"A2\" : A2}\n",
    "    return A2, cache"
   ]
  },
  {
   "cell_type": "markdown",
   "id": "b088948a",
   "metadata": {},
   "source": [
    "#### Loss and Cost Function"
   ]
  },
  {
   "cell_type": "code",
   "execution_count": 58,
   "id": "9cb901b5",
   "metadata": {},
   "outputs": [],
   "source": [
    "# Compute cost\n",
    "def compute_cost_NN(A2, Y, parameters):\n",
    "    logprobs = np.multiply(np.log(A2),Y)\n",
    "    cost = -np.sum(logprobs)/Y.shape[1]\n",
    "    return cost"
   ]
  },
  {
   "cell_type": "markdown",
   "id": "5eeeb0f8",
   "metadata": {},
   "source": [
    "#### Backward Propagation"
   ]
  },
  {
   "cell_type": "code",
   "execution_count": 59,
   "id": "7aea0589",
   "metadata": {},
   "outputs": [],
   "source": [
    "# weight ve bias değerlerini güncelleme yapabilmek için:\n",
    "def backward_propagation_NN(parameters, cache, X, Y):\n",
    "    dZ2 = cache[\"A2\"] - Y\n",
    "    dW2 = np.dot(dZ2, cache[\"A1\"].T)/X.shape[1]\n",
    "    db2 = np.sum(dZ2, axis = 1, keepdims = True) / X.shape[1]\n",
    "    dZ1 = np.dot(parameters[\"weight2\"].T, dZ2) * (1 - np.power(cache[\"A1\"], 2))\n",
    "    dW1 = np.dot(dZ1, X.T) / X.shape[1]\n",
    "    db1 = np.sum(dZ1, axis = 1, keepdims=True) / X.shape[1]\n",
    "    \n",
    "    grads = {\"dweight1\" : dW1,\n",
    "             \"dbias1\" : db1,\n",
    "             \"dweight2\" : dW2,\n",
    "             \"dbias2\" : db2}\n",
    "    return grads"
   ]
  },
  {
   "cell_type": "markdown",
   "id": "be480f64",
   "metadata": {},
   "source": [
    "#### Update Parameters"
   ]
  },
  {
   "cell_type": "code",
   "execution_count": 60,
   "id": "46d8190f",
   "metadata": {},
   "outputs": [],
   "source": [
    "def update_parameters_NN(parameters, grads, learning_rate = 0.01):\n",
    "    parameters = {'weight1' : parameters[\"weight1\"] - learning_rate * grads[\"dweight1\"],\n",
    "                 'bias1' : parameters[\"bias1\"] - learning_rate * grads[\"dbias1\"],\n",
    "                 'weight2' : parameters[\"weight2\"] - learning_rate * grads[\"dweight2\"],\n",
    "                 'bias2' : parameters[\"bias2\"] - learning_rate * grads[\"dbias2\"]}\n",
    "    return parameters"
   ]
  },
  {
   "cell_type": "markdown",
   "id": "c4351f3a",
   "metadata": {},
   "source": [
    "#### Prediction with learnt parameters weight and bias"
   ]
  },
  {
   "cell_type": "code",
   "execution_count": 61,
   "id": "816ab2d4",
   "metadata": {},
   "outputs": [],
   "source": [
    "def predict_NN(parameters, x_test):\n",
    "    # x_test is a input for forward propagation\n",
    "    A2, cache = forward_propagation_NN(x_test, parameters)\n",
    "    Y_prediction = np.zeros((1, x_test.shape[1]))\n",
    "    \n",
    "    # if z is bigger than 0.5, our prediction is sign one (y_head = 1)\n",
    "    # if z is smaller than 0.5, out prediction is sign zero (y_head = 0)\n",
    "    for i in range(A2.shape[1]):\n",
    "        if A2[0, i] <= 0.5:\n",
    "            Y_prediction[0, i] = 0\n",
    "        else:\n",
    "            Y_prediction[0, i] = 1\n",
    "            \n",
    "    return Y_prediction"
   ]
  },
  {
   "cell_type": "markdown",
   "id": "9dcde5b0",
   "metadata": {},
   "source": [
    "#### Create ANN Model"
   ]
  },
  {
   "cell_type": "code",
   "execution_count": 65,
   "id": "2cd1de2b",
   "metadata": {},
   "outputs": [
    {
     "name": "stdout",
     "output_type": "stream",
     "text": [
      "Cost after iteration 0: 0.391629\n",
      "Cost after iteration 100: 0.343403\n",
      "Cost after iteration 200: 0.297080\n",
      "Cost after iteration 300: 0.251276\n",
      "Cost after iteration 400: 0.211068\n",
      "Cost after iteration 500: 0.180458\n",
      "Cost after iteration 600: 0.197826\n",
      "Cost after iteration 700: 0.159958\n",
      "Cost after iteration 800: 0.121828\n",
      "Cost after iteration 900: 0.106845\n",
      "Cost after iteration 1000: 0.096698\n",
      "Cost after iteration 1100: 0.088281\n",
      "Cost after iteration 1200: 0.081117\n",
      "Cost after iteration 1300: 0.074852\n",
      "Cost after iteration 1400: 0.069410\n",
      "Cost after iteration 1500: 0.064872\n",
      "Cost after iteration 1600: 0.061125\n",
      "Cost after iteration 1700: 0.057956\n",
      "Cost after iteration 1800: 0.055115\n",
      "Cost after iteration 1900: 0.052464\n",
      "Cost after iteration 2000: 0.050017\n",
      "Cost after iteration 2100: 0.047778\n",
      "Cost after iteration 2200: 0.045691\n",
      "Cost after iteration 2300: 0.043657\n",
      "Cost after iteration 2400: 0.041514\n"
     ]
    },
    {
     "data": {
      "image/png": "[encoded data removed]",
      "text/plain": [
       "<Figure size 640x480 with 1 Axes>"
      ]
     },
     "metadata": {},
     "output_type": "display_data"
    },
    {
     "name": "stdout",
     "output_type": "stream",
     "text": [
      "train accuracy : 99.42528735632185 %\n",
      "test accuracy : 95.16129032258064 %\n"
     ]
    }
   ],
   "source": [
    "# 2-Layer neural network\n",
    "def two_layer_neural_network(x_train, y_train, x_test, y_test, num_iterations):\n",
    "    cost_list = []\n",
    "    index_list = []\n",
    "    \n",
    "    # initialize parameters and layer sizes\n",
    "    parameters = initialize_parameters_and_layer_sizes_NN(x_train, y_train)\n",
    "    \n",
    "    for i in range(0, num_iterations):\n",
    "        \n",
    "        # forward propagation\n",
    "        A2, cache = forward_propagation_NN(x_train, parameters)\n",
    "        \n",
    "        # compute cost\n",
    "        cost = compute_cost_NN(A2, y_train, parameters)\n",
    "        \n",
    "        # backward propagation\n",
    "        grads = backward_propagation_NN(parameters, cache, x_train, y_train)\n",
    "        \n",
    "        # update parameters\n",
    "        parameters = update_parameters_NN(parameters, grads)\n",
    "        \n",
    "        if i % 100 == 0:\n",
    "            cost_list.append(cost)\n",
    "            index_list.append(i)\n",
    "            print(\"Cost after iteration %i: %f\" %(i, cost))\n",
    "    plt.plot(index_list, cost_list)\n",
    "    plt.xticks(index_list, rotation=\"vertical\")\n",
    "    plt.xlabel(\"Number of Iteration\")\n",
    "    plt.ylabel(\"Cost\")\n",
    "    plt.show()\n",
    "        \n",
    "    # predict\n",
    "    y_prediction_test = predict_NN(parameters, x_test)\n",
    "    y_prediction_train = predict_NN(parameters, x_train)\n",
    "        \n",
    "    # print train/test Errors\n",
    "    print(\"train accuracy : {} %\".format(100 - np.mean(np.abs(y_prediction_train - y_train)) * 100))\n",
    "    print(\"test accuracy : {} %\".format(100 - np.mean(np.abs(y_prediction_test - y_test)) * 100))\n",
    "    return parameters\n",
    "parameters = two_layer_neural_network(x_train, y_train_t, x_test, y_test_t, num_iterations=2500)\n",
    "        "
   ]
  },
  {
   "cell_type": "markdown",
   "id": "d99ddd8b",
   "metadata": {},
   "source": [
    "#### L-Layer Neural Network"
   ]
  },
  {
   "cell_type": "code",
   "execution_count": 68,
   "id": "fb1f48aa",
   "metadata": {},
   "outputs": [],
   "source": [
    "# reshaping\n",
    "x_train, x_test, y_train, y_test = x_train.T, x_test.T, y_train_t.T, y_test_t.T"
   ]
  },
  {
   "cell_type": "markdown",
   "id": "7c42925b",
   "metadata": {},
   "source": [
    "#### Implementing with keras library"
   ]
  },
  {
   "cell_type": "code",
   "execution_count": 69,
   "id": "44fbe53d",
   "metadata": {},
   "outputs": [
    {
     "name": "stderr",
     "output_type": "stream",
     "text": [
      "C:\\Users\\aleyy\\AppData\\Local\\Temp\\ipykernel_19208\\598709212.py:18: DeprecationWarning: KerasClassifier is deprecated, use Sci-Keras (https://github.com/adriangb/scikeras) instead. See https://www.adriangb.com/scikeras/stable/migration.html for help migrating.\n",
      "  classifier = KerasClassifier(build_fn = build_classifier, epochs = 100)\n"
     ]
    },
    {
     "name": "stdout",
     "output_type": "stream",
     "text": [
      "Epoch 1/100\n",
      "8/8 [==============================] - 1s 2ms/step - loss: 0.6912 - accuracy: 0.5431\n",
      "Epoch 2/100\n",
      "8/8 [==============================] - 0s 1ms/step - loss: 0.6884 - accuracy: 0.5431\n",
      "Epoch 3/100\n",
      "8/8 [==============================] - 0s 2ms/step - loss: 0.6860 - accuracy: 0.5431\n",
      "Epoch 4/100\n",
      "8/8 [==============================] - 0s 2ms/step - loss: 0.6845 - accuracy: 0.5431\n",
      "Epoch 5/100\n",
      "8/8 [==============================] - 0s 2ms/step - loss: 0.6822 - accuracy: 0.5431\n",
      "Epoch 6/100\n",
      "8/8 [==============================] - 0s 3ms/step - loss: 0.6801 - accuracy: 0.5431\n",
      "Epoch 7/100\n",
      "8/8 [==============================] - 0s 3ms/step - loss: 0.6743 - accuracy: 0.5431\n",
      "Epoch 8/100\n",
      "8/8 [==============================] - 0s 3ms/step - loss: 0.6720 - accuracy: 0.5431\n",
      "Epoch 9/100\n",
      "8/8 [==============================] - 0s 3ms/step - loss: 0.6622 - accuracy: 0.5431\n",
      "Epoch 10/100\n",
      "8/8 [==============================] - 0s 2ms/step - loss: 0.6489 - accuracy: 0.5431\n",
      "Epoch 11/100\n",
      "8/8 [==============================] - 0s 3ms/step - loss: 0.6322 - accuracy: 0.5733\n",
      "Epoch 12/100\n",
      "8/8 [==============================] - 0s 1ms/step - loss: 0.6066 - accuracy: 0.5862\n",
      "Epoch 13/100\n",
      "8/8 [==============================] - 0s 2ms/step - loss: 0.5806 - accuracy: 0.6897\n",
      "Epoch 14/100\n",
      "8/8 [==============================] - 0s 2ms/step - loss: 0.5530 - accuracy: 0.7414\n",
      "Epoch 15/100\n",
      "8/8 [==============================] - 0s 2ms/step - loss: 0.5257 - accuracy: 0.7672\n",
      "Epoch 16/100\n",
      "8/8 [==============================] - 0s 2ms/step - loss: 0.5034 - accuracy: 0.7759\n",
      "Epoch 17/100\n",
      "8/8 [==============================] - 0s 1ms/step - loss: 0.4795 - accuracy: 0.8405\n",
      "Epoch 18/100\n",
      "8/8 [==============================] - 0s 3ms/step - loss: 0.4610 - accuracy: 0.8491\n",
      "Epoch 19/100\n",
      "8/8 [==============================] - 0s 2ms/step - loss: 0.4476 - accuracy: 0.8621\n",
      "Epoch 20/100\n",
      "8/8 [==============================] - 0s 2ms/step - loss: 0.4269 - accuracy: 0.8707\n",
      "Epoch 21/100\n",
      "8/8 [==============================] - 0s 2ms/step - loss: 0.4164 - accuracy: 0.8966\n",
      "Epoch 22/100\n",
      "8/8 [==============================] - 0s 2ms/step - loss: 0.4120 - accuracy: 0.8836\n",
      "Epoch 23/100\n",
      "8/8 [==============================] - 0s 2ms/step - loss: 0.3995 - accuracy: 0.8922\n",
      "Epoch 24/100\n",
      "8/8 [==============================] - 0s 3ms/step - loss: 0.3910 - accuracy: 0.9440\n",
      "Epoch 25/100\n",
      "8/8 [==============================] - 0s 2ms/step - loss: 0.4269 - accuracy: 0.8664\n",
      "Epoch 26/100\n",
      "8/8 [==============================] - 0s 2ms/step - loss: 0.3942 - accuracy: 0.8578\n",
      "Epoch 27/100\n",
      "8/8 [==============================] - 0s 2ms/step - loss: 0.3938 - accuracy: 0.9353\n",
      "Epoch 28/100\n",
      "8/8 [==============================] - 0s 2ms/step - loss: 0.4126 - accuracy: 0.8664\n",
      "Epoch 29/100\n",
      "8/8 [==============================] - 0s 3ms/step - loss: 0.3741 - accuracy: 0.9009\n",
      "Epoch 30/100\n",
      "8/8 [==============================] - 0s 2ms/step - loss: 0.3646 - accuracy: 0.9095\n",
      "Epoch 31/100\n",
      "8/8 [==============================] - 0s 2ms/step - loss: 0.3655 - accuracy: 0.9224\n",
      "Epoch 32/100\n",
      "8/8 [==============================] - 0s 2ms/step - loss: 0.3569 - accuracy: 0.9181\n",
      "Epoch 33/100\n",
      "8/8 [==============================] - 0s 2ms/step - loss: 0.3528 - accuracy: 0.9310\n",
      "Epoch 34/100\n",
      "8/8 [==============================] - 0s 2ms/step - loss: 0.3446 - accuracy: 0.9353\n",
      "Epoch 35/100\n",
      "8/8 [==============================] - 0s 2ms/step - loss: 0.3410 - accuracy: 0.9267\n",
      "Epoch 36/100\n",
      "8/8 [==============================] - 0s 2ms/step - loss: 0.3406 - accuracy: 0.9353\n",
      "Epoch 37/100\n",
      "8/8 [==============================] - 0s 2ms/step - loss: 0.3506 - accuracy: 0.9138\n",
      "Epoch 38/100\n",
      "8/8 [==============================] - 0s 2ms/step - loss: 0.3596 - accuracy: 0.9483\n",
      "Epoch 39/100\n",
      "8/8 [==============================] - 0s 2ms/step - loss: 0.3556 - accuracy: 0.8922\n",
      "Epoch 40/100\n",
      "8/8 [==============================] - 0s 1ms/step - loss: 0.3415 - accuracy: 0.9181\n",
      "Epoch 41/100\n",
      "8/8 [==============================] - 0s 3ms/step - loss: 0.3258 - accuracy: 0.9569\n",
      "Epoch 42/100\n",
      "8/8 [==============================] - 0s 2ms/step - loss: 0.3219 - accuracy: 0.9526\n",
      "Epoch 43/100\n",
      "8/8 [==============================] - 0s 2ms/step - loss: 0.3171 - accuracy: 0.9397\n",
      "Epoch 44/100\n",
      "8/8 [==============================] - 0s 3ms/step - loss: 0.3242 - accuracy: 0.9655\n",
      "Epoch 45/100\n",
      "8/8 [==============================] - 0s 3ms/step - loss: 0.3128 - accuracy: 0.9310\n",
      "Epoch 46/100\n",
      "8/8 [==============================] - 0s 1ms/step - loss: 0.3134 - accuracy: 0.9655\n",
      "Epoch 47/100\n",
      "8/8 [==============================] - 0s 3ms/step - loss: 0.3194 - accuracy: 0.9181\n",
      "Epoch 48/100\n",
      "8/8 [==============================] - 0s 2ms/step - loss: 0.3224 - accuracy: 0.9569\n",
      "Epoch 49/100\n",
      "8/8 [==============================] - 0s 1ms/step - loss: 0.3068 - accuracy: 0.9353\n",
      "Epoch 50/100\n",
      "8/8 [==============================] - 0s 3ms/step - loss: 0.3184 - accuracy: 0.9526\n",
      "Epoch 51/100\n",
      "8/8 [==============================] - 0s 2ms/step - loss: 0.2972 - accuracy: 0.9655\n",
      "Epoch 52/100\n",
      "8/8 [==============================] - 0s 1ms/step - loss: 0.2979 - accuracy: 0.9612\n",
      "Epoch 53/100\n",
      "8/8 [==============================] - 0s 3ms/step - loss: 0.3061 - accuracy: 0.9483\n",
      "Epoch 54/100\n",
      "8/8 [==============================] - 0s 3ms/step - loss: 0.2929 - accuracy: 0.9612\n",
      "Epoch 55/100\n",
      "8/8 [==============================] - 0s 1ms/step - loss: 0.2874 - accuracy: 0.9612\n",
      "Epoch 56/100\n",
      "8/8 [==============================] - 0s 1ms/step - loss: 0.2874 - accuracy: 0.9569\n",
      "Epoch 57/100\n",
      "8/8 [==============================] - 0s 2ms/step - loss: 0.2861 - accuracy: 0.9483\n",
      "Epoch 58/100\n",
      "8/8 [==============================] - 0s 2ms/step - loss: 0.2877 - accuracy: 0.9698\n",
      "Epoch 59/100\n",
      "8/8 [==============================] - 0s 2ms/step - loss: 0.2988 - accuracy: 0.9698\n",
      "Epoch 60/100\n",
      "8/8 [==============================] - 0s 2ms/step - loss: 0.2809 - accuracy: 0.9483\n",
      "Epoch 61/100\n",
      "8/8 [==============================] - 0s 2ms/step - loss: 0.2884 - accuracy: 0.9440\n",
      "Epoch 62/100\n",
      "8/8 [==============================] - 0s 2ms/step - loss: 0.2728 - accuracy: 0.9655\n",
      "Epoch 63/100\n",
      "8/8 [==============================] - 0s 2ms/step - loss: 0.2667 - accuracy: 0.9612\n",
      "Epoch 64/100\n",
      "8/8 [==============================] - 0s 2ms/step - loss: 0.2679 - accuracy: 0.9612\n",
      "Epoch 65/100\n",
      "8/8 [==============================] - 0s 2ms/step - loss: 0.2643 - accuracy: 0.9698\n",
      "Epoch 66/100\n",
      "8/8 [==============================] - 0s 2ms/step - loss: 0.2715 - accuracy: 0.9612\n",
      "Epoch 67/100\n",
      "8/8 [==============================] - 0s 2ms/step - loss: 0.2603 - accuracy: 0.9698\n",
      "Epoch 68/100\n",
      "8/8 [==============================] - 0s 2ms/step - loss: 0.2656 - accuracy: 0.9741\n",
      "Epoch 69/100\n",
      "8/8 [==============================] - 0s 2ms/step - loss: 0.2766 - accuracy: 0.9440\n",
      "Epoch 70/100\n",
      "8/8 [==============================] - 0s 2ms/step - loss: 0.2647 - accuracy: 0.9569\n",
      "Epoch 71/100\n",
      "8/8 [==============================] - 0s 2ms/step - loss: 0.2533 - accuracy: 0.9612\n",
      "Epoch 72/100\n",
      "8/8 [==============================] - 0s 2ms/step - loss: 0.2474 - accuracy: 0.9698\n",
      "Epoch 73/100\n",
      "8/8 [==============================] - 0s 2ms/step - loss: 0.2470 - accuracy: 0.9698\n",
      "Epoch 74/100\n",
      "8/8 [==============================] - 0s 2ms/step - loss: 0.2470 - accuracy: 0.9741\n",
      "Epoch 75/100\n",
      "8/8 [==============================] - 0s 2ms/step - loss: 0.2434 - accuracy: 0.9698\n",
      "Epoch 76/100\n",
      "8/8 [==============================] - 0s 2ms/step - loss: 0.2484 - accuracy: 0.9784\n",
      "Epoch 77/100\n",
      "8/8 [==============================] - 0s 2ms/step - loss: 0.2461 - accuracy: 0.9655\n",
      "Epoch 78/100\n",
      "8/8 [==============================] - 0s 1ms/step - loss: 0.2518 - accuracy: 0.9828\n",
      "Epoch 79/100\n",
      "8/8 [==============================] - 0s 1ms/step - loss: 0.2485 - accuracy: 0.9612\n",
      "Epoch 80/100\n",
      "8/8 [==============================] - 0s 2ms/step - loss: 0.2446 - accuracy: 0.9655\n",
      "Epoch 81/100\n",
      "8/8 [==============================] - 0s 2ms/step - loss: 0.2508 - accuracy: 0.9784\n",
      "Epoch 82/100\n",
      "8/8 [==============================] - 0s 2ms/step - loss: 0.2409 - accuracy: 0.9655\n",
      "Epoch 83/100\n",
      "8/8 [==============================] - 0s 2ms/step - loss: 0.2369 - accuracy: 0.9741\n",
      "Epoch 84/100\n"
     ]
    },
    {
     "name": "stdout",
     "output_type": "stream",
     "text": [
      "8/8 [==============================] - 0s 2ms/step - loss: 0.2306 - accuracy: 0.9698\n",
      "Epoch 85/100\n",
      "8/8 [==============================] - 0s 2ms/step - loss: 0.2334 - accuracy: 0.9655\n",
      "Epoch 86/100\n",
      "8/8 [==============================] - 0s 2ms/step - loss: 0.2299 - accuracy: 0.9828\n",
      "Epoch 87/100\n",
      "8/8 [==============================] - 0s 3ms/step - loss: 0.2272 - accuracy: 0.9698\n",
      "Epoch 88/100\n",
      "8/8 [==============================] - 0s 3ms/step - loss: 0.2313 - accuracy: 0.9698\n",
      "Epoch 89/100\n",
      "8/8 [==============================] - 0s 2ms/step - loss: 0.2375 - accuracy: 0.9698\n",
      "Epoch 90/100\n",
      "8/8 [==============================] - 0s 2ms/step - loss: 0.2236 - accuracy: 0.9828\n",
      "Epoch 91/100\n",
      "8/8 [==============================] - 0s 3ms/step - loss: 0.2228 - accuracy: 0.9741\n",
      "Epoch 92/100\n",
      "8/8 [==============================] - 0s 3ms/step - loss: 0.2444 - accuracy: 0.9741\n",
      "Epoch 93/100\n",
      "8/8 [==============================] - 0s 3ms/step - loss: 0.2395 - accuracy: 0.9741\n",
      "Epoch 94/100\n",
      "8/8 [==============================] - 0s 2ms/step - loss: 0.2333 - accuracy: 0.9655\n",
      "Epoch 95/100\n",
      "8/8 [==============================] - 0s 2ms/step - loss: 0.2281 - accuracy: 0.9741\n",
      "Epoch 96/100\n",
      "8/8 [==============================] - 0s 2ms/step - loss: 0.2199 - accuracy: 0.9828\n",
      "Epoch 97/100\n",
      "8/8 [==============================] - 0s 2ms/step - loss: 0.2201 - accuracy: 0.9698\n",
      "Epoch 98/100\n",
      "8/8 [==============================] - 0s 2ms/step - loss: 0.2244 - accuracy: 0.9698\n",
      "Epoch 99/100\n",
      "8/8 [==============================] - 0s 2ms/step - loss: 0.2138 - accuracy: 0.9784\n",
      "Epoch 100/100\n",
      "8/8 [==============================] - 0s 2ms/step - loss: 0.2219 - accuracy: 0.9741\n",
      "4/4 [==============================] - 0s 3ms/step - loss: 0.2721 - accuracy: 0.9828\n",
      "Epoch 1/100\n",
      "8/8 [==============================] - 1s 3ms/step - loss: 0.6931 - accuracy: 0.5086\n",
      "Epoch 2/100\n",
      "8/8 [==============================] - 0s 2ms/step - loss: 0.6925 - accuracy: 0.5000\n",
      "Epoch 3/100\n",
      "8/8 [==============================] - 0s 2ms/step - loss: 0.6920 - accuracy: 0.6422\n",
      "Epoch 4/100\n",
      "8/8 [==============================] - 0s 1ms/step - loss: 0.6918 - accuracy: 0.5991\n",
      "Epoch 5/100\n",
      "8/8 [==============================] - 0s 2ms/step - loss: 0.6906 - accuracy: 0.5905\n",
      "Epoch 6/100\n",
      "8/8 [==============================] - 0s 2ms/step - loss: 0.6890 - accuracy: 0.8319\n",
      "Epoch 7/100\n",
      "8/8 [==============================] - 0s 2ms/step - loss: 0.6871 - accuracy: 0.7069\n",
      "Epoch 8/100\n",
      "8/8 [==============================] - 0s 2ms/step - loss: 0.6834 - accuracy: 0.5517\n",
      "Epoch 9/100\n",
      "8/8 [==============================] - 0s 948us/step - loss: 0.6789 - accuracy: 0.7543\n",
      "Epoch 10/100\n",
      "8/8 [==============================] - 0s 2ms/step - loss: 0.6715 - accuracy: 0.5431\n",
      "Epoch 11/100\n",
      "8/8 [==============================] - 0s 2ms/step - loss: 0.6611 - accuracy: 0.7414\n",
      "Epoch 12/100\n",
      "8/8 [==============================] - 0s 2ms/step - loss: 0.6498 - accuracy: 0.6466\n",
      "Epoch 13/100\n",
      "8/8 [==============================] - 0s 2ms/step - loss: 0.6397 - accuracy: 0.7026\n",
      "Epoch 14/100\n",
      "8/8 [==============================] - 0s 2ms/step - loss: 0.6232 - accuracy: 0.8103\n",
      "Epoch 15/100\n",
      "8/8 [==============================] - 0s 2ms/step - loss: 0.6069 - accuracy: 0.6983\n",
      "Epoch 16/100\n",
      "8/8 [==============================] - 0s 3ms/step - loss: 0.5745 - accuracy: 0.8534\n",
      "Epoch 17/100\n",
      "8/8 [==============================] - 0s 2ms/step - loss: 0.5544 - accuracy: 0.7974\n",
      "Epoch 18/100\n",
      "8/8 [==============================] - 0s 2ms/step - loss: 0.5205 - accuracy: 0.7888\n",
      "Epoch 19/100\n",
      "8/8 [==============================] - 0s 1ms/step - loss: 0.4865 - accuracy: 0.9440\n",
      "Epoch 20/100\n",
      "8/8 [==============================] - 0s 3ms/step - loss: 0.4432 - accuracy: 0.9397\n",
      "Epoch 21/100\n",
      "8/8 [==============================] - 0s 2ms/step - loss: 0.4032 - accuracy: 0.9310\n",
      "Epoch 22/100\n",
      "8/8 [==============================] - 0s 2ms/step - loss: 0.3684 - accuracy: 0.9267\n",
      "Epoch 23/100\n",
      "8/8 [==============================] - 0s 2ms/step - loss: 0.3306 - accuracy: 0.9483\n",
      "Epoch 24/100\n",
      "8/8 [==============================] - 0s 2ms/step - loss: 0.3016 - accuracy: 0.9440\n",
      "Epoch 25/100\n",
      "8/8 [==============================] - 0s 2ms/step - loss: 0.2947 - accuracy: 0.9095\n",
      "Epoch 26/100\n",
      "8/8 [==============================] - 0s 2ms/step - loss: 0.2796 - accuracy: 0.9267\n",
      "Epoch 27/100\n",
      "8/8 [==============================] - 0s 2ms/step - loss: 0.2337 - accuracy: 0.9612\n",
      "Epoch 28/100\n",
      "8/8 [==============================] - 0s 3ms/step - loss: 0.2296 - accuracy: 0.9483\n",
      "Epoch 29/100\n",
      "8/8 [==============================] - 0s 1ms/step - loss: 0.2250 - accuracy: 0.9353\n",
      "Epoch 30/100\n",
      "8/8 [==============================] - 0s 2ms/step - loss: 0.2018 - accuracy: 0.9569\n",
      "Epoch 31/100\n",
      "8/8 [==============================] - 0s 1ms/step - loss: 0.1960 - accuracy: 0.9267\n",
      "Epoch 32/100\n",
      "8/8 [==============================] - 0s 2ms/step - loss: 0.1899 - accuracy: 0.9569\n",
      "Epoch 33/100\n",
      "8/8 [==============================] - 0s 2ms/step - loss: 0.1760 - accuracy: 0.9569\n",
      "Epoch 34/100\n",
      "8/8 [==============================] - 0s 2ms/step - loss: 0.1723 - accuracy: 0.9569\n",
      "Epoch 35/100\n",
      "8/8 [==============================] - 0s 2ms/step - loss: 0.1501 - accuracy: 0.9698\n",
      "Epoch 36/100\n",
      "8/8 [==============================] - 0s 2ms/step - loss: 0.1521 - accuracy: 0.9655\n",
      "Epoch 37/100\n",
      "8/8 [==============================] - 0s 2ms/step - loss: 0.1455 - accuracy: 0.9655\n",
      "Epoch 38/100\n",
      "8/8 [==============================] - 0s 1ms/step - loss: 0.1351 - accuracy: 0.9698\n",
      "Epoch 39/100\n",
      "8/8 [==============================] - 0s 2ms/step - loss: 0.1425 - accuracy: 0.9612\n",
      "Epoch 40/100\n",
      "8/8 [==============================] - 0s 2ms/step - loss: 0.1318 - accuracy: 0.9741\n",
      "Epoch 41/100\n",
      "8/8 [==============================] - 0s 674us/step - loss: 0.1320 - accuracy: 0.9698\n",
      "Epoch 42/100\n",
      "8/8 [==============================] - 0s 2ms/step - loss: 0.1215 - accuracy: 0.9698\n",
      "Epoch 43/100\n",
      "8/8 [==============================] - 0s 2ms/step - loss: 0.1149 - accuracy: 0.9784\n",
      "Epoch 44/100\n",
      "8/8 [==============================] - 0s 2ms/step - loss: 0.1140 - accuracy: 0.9698\n",
      "Epoch 45/100\n",
      "8/8 [==============================] - 0s 3ms/step - loss: 0.1078 - accuracy: 0.9698\n",
      "Epoch 46/100\n",
      "8/8 [==============================] - 0s 2ms/step - loss: 0.1243 - accuracy: 0.9655\n",
      "Epoch 47/100\n",
      "8/8 [==============================] - 0s 2ms/step - loss: 0.1137 - accuracy: 0.9655\n",
      "Epoch 48/100\n",
      "8/8 [==============================] - 0s 2ms/step - loss: 0.1207 - accuracy: 0.9569\n",
      "Epoch 49/100\n",
      "8/8 [==============================] - 0s 2ms/step - loss: 0.1285 - accuracy: 0.9526\n",
      "Epoch 50/100\n",
      "8/8 [==============================] - 0s 2ms/step - loss: 0.1064 - accuracy: 0.9655\n",
      "Epoch 51/100\n",
      "8/8 [==============================] - 0s 2ms/step - loss: 0.0948 - accuracy: 0.9741\n",
      "Epoch 52/100\n",
      "8/8 [==============================] - 0s 2ms/step - loss: 0.0951 - accuracy: 0.9741\n",
      "Epoch 53/100\n",
      "8/8 [==============================] - 0s 2ms/step - loss: 0.0921 - accuracy: 0.9784\n",
      "Epoch 54/100\n",
      "8/8 [==============================] - 0s 2ms/step - loss: 0.0913 - accuracy: 0.9741\n",
      "Epoch 55/100\n",
      "8/8 [==============================] - 0s 2ms/step - loss: 0.0915 - accuracy: 0.9784\n",
      "Epoch 56/100\n",
      "8/8 [==============================] - 0s 2ms/step - loss: 0.0888 - accuracy: 0.9828\n",
      "Epoch 57/100\n",
      "8/8 [==============================] - 0s 2ms/step - loss: 0.0834 - accuracy: 0.9784\n",
      "Epoch 58/100\n",
      "8/8 [==============================] - 0s 2ms/step - loss: 0.0843 - accuracy: 0.9784\n",
      "Epoch 59/100\n",
      "8/8 [==============================] - 0s 2ms/step - loss: 0.0769 - accuracy: 0.9828\n",
      "Epoch 60/100\n",
      "8/8 [==============================] - 0s 2ms/step - loss: 0.0719 - accuracy: 0.9828\n",
      "Epoch 61/100\n",
      "8/8 [==============================] - 0s 2ms/step - loss: 0.0737 - accuracy: 0.9828\n",
      "Epoch 62/100\n",
      "8/8 [==============================] - 0s 2ms/step - loss: 0.0683 - accuracy: 0.9784\n",
      "Epoch 63/100\n",
      "8/8 [==============================] - 0s 2ms/step - loss: 0.0754 - accuracy: 0.9828\n",
      "Epoch 64/100\n",
      "8/8 [==============================] - 0s 2ms/step - loss: 0.0824 - accuracy: 0.9741\n",
      "Epoch 65/100\n",
      "8/8 [==============================] - 0s 3ms/step - loss: 0.0760 - accuracy: 0.9741\n",
      "Epoch 66/100\n"
     ]
    },
    {
     "name": "stdout",
     "output_type": "stream",
     "text": [
      "8/8 [==============================] - 0s 2ms/step - loss: 0.0743 - accuracy: 0.9784\n",
      "Epoch 67/100\n",
      "8/8 [==============================] - 0s 2ms/step - loss: 0.0618 - accuracy: 0.9871\n",
      "Epoch 68/100\n",
      "8/8 [==============================] - 0s 2ms/step - loss: 0.0630 - accuracy: 0.9828\n",
      "Epoch 69/100\n",
      "8/8 [==============================] - 0s 2ms/step - loss: 0.0610 - accuracy: 0.9914\n",
      "Epoch 70/100\n",
      "8/8 [==============================] - 0s 2ms/step - loss: 0.0619 - accuracy: 0.9828\n",
      "Epoch 71/100\n",
      "8/8 [==============================] - 0s 2ms/step - loss: 0.0640 - accuracy: 0.9828\n",
      "Epoch 72/100\n",
      "8/8 [==============================] - 0s 2ms/step - loss: 0.1014 - accuracy: 0.9698\n",
      "Epoch 73/100\n",
      "8/8 [==============================] - 0s 2ms/step - loss: 0.0857 - accuracy: 0.9698\n",
      "Epoch 74/100\n",
      "8/8 [==============================] - 0s 2ms/step - loss: 0.0533 - accuracy: 0.9957\n",
      "Epoch 75/100\n",
      "8/8 [==============================] - 0s 2ms/step - loss: 0.0759 - accuracy: 0.9741\n",
      "Epoch 76/100\n",
      "8/8 [==============================] - 0s 2ms/step - loss: 0.0549 - accuracy: 0.9871\n",
      "Epoch 77/100\n",
      "8/8 [==============================] - 0s 2ms/step - loss: 0.0543 - accuracy: 0.9828\n",
      "Epoch 78/100\n",
      "8/8 [==============================] - 0s 2ms/step - loss: 0.0545 - accuracy: 0.9914\n",
      "Epoch 79/100\n",
      "8/8 [==============================] - 0s 2ms/step - loss: 0.0602 - accuracy: 0.9828\n",
      "Epoch 80/100\n",
      "8/8 [==============================] - 0s 2ms/step - loss: 0.0539 - accuracy: 0.9871\n",
      "Epoch 81/100\n",
      "8/8 [==============================] - 0s 2ms/step - loss: 0.0533 - accuracy: 0.9871\n",
      "Epoch 82/100\n",
      "8/8 [==============================] - 0s 2ms/step - loss: 0.0452 - accuracy: 0.9871\n",
      "Epoch 83/100\n",
      "8/8 [==============================] - 0s 2ms/step - loss: 0.0444 - accuracy: 0.9871\n",
      "Epoch 84/100\n",
      "8/8 [==============================] - 0s 2ms/step - loss: 0.0421 - accuracy: 0.9871\n",
      "Epoch 85/100\n",
      "8/8 [==============================] - 0s 2ms/step - loss: 0.0510 - accuracy: 0.9871\n",
      "Epoch 86/100\n",
      "8/8 [==============================] - 0s 2ms/step - loss: 0.0500 - accuracy: 0.9828\n",
      "Epoch 87/100\n",
      "8/8 [==============================] - 0s 2ms/step - loss: 0.0430 - accuracy: 0.9871\n",
      "Epoch 88/100\n",
      "8/8 [==============================] - 0s 2ms/step - loss: 0.0423 - accuracy: 0.9914\n",
      "Epoch 89/100\n",
      "8/8 [==============================] - 0s 3ms/step - loss: 0.0376 - accuracy: 0.9957\n",
      "Epoch 90/100\n",
      "8/8 [==============================] - 0s 2ms/step - loss: 0.0421 - accuracy: 0.9914\n",
      "Epoch 91/100\n",
      "8/8 [==============================] - 0s 2ms/step - loss: 0.0542 - accuracy: 0.9784\n",
      "Epoch 92/100\n",
      "8/8 [==============================] - 0s 3ms/step - loss: 0.0379 - accuracy: 0.9914\n",
      "Epoch 93/100\n",
      "8/8 [==============================] - 0s 2ms/step - loss: 0.0383 - accuracy: 0.9914\n",
      "Epoch 94/100\n",
      "8/8 [==============================] - 0s 2ms/step - loss: 0.0348 - accuracy: 0.9957\n",
      "Epoch 95/100\n",
      "8/8 [==============================] - 0s 2ms/step - loss: 0.0331 - accuracy: 0.9957\n",
      "Epoch 96/100\n",
      "8/8 [==============================] - 0s 3ms/step - loss: 0.0370 - accuracy: 0.9957\n",
      "Epoch 97/100\n",
      "8/8 [==============================] - 0s 3ms/step - loss: 0.0343 - accuracy: 0.9914\n",
      "Epoch 98/100\n",
      "8/8 [==============================] - 0s 2ms/step - loss: 0.0322 - accuracy: 0.9914\n",
      "Epoch 99/100\n",
      "8/8 [==============================] - 0s 1ms/step - loss: 0.0346 - accuracy: 0.9914\n",
      "Epoch 100/100\n",
      "8/8 [==============================] - 0s 3ms/step - loss: 0.0367 - accuracy: 0.9914\n",
      "4/4 [==============================] - 0s 3ms/step - loss: 0.1438 - accuracy: 0.9397\n",
      "Epoch 1/100\n",
      "8/8 [==============================] - 1s 2ms/step - loss: 0.6932 - accuracy: 0.4655\n",
      "Epoch 2/100\n",
      "8/8 [==============================] - 0s 2ms/step - loss: 0.6932 - accuracy: 0.5043\n",
      "Epoch 3/100\n",
      "8/8 [==============================] - 0s 2ms/step - loss: 0.6931 - accuracy: 0.5043\n",
      "Epoch 4/100\n",
      "8/8 [==============================] - 0s 2ms/step - loss: 0.6931 - accuracy: 0.5043\n",
      "Epoch 5/100\n",
      "8/8 [==============================] - 0s 2ms/step - loss: 0.6931 - accuracy: 0.4957\n",
      "Epoch 6/100\n",
      "8/8 [==============================] - 0s 2ms/step - loss: 0.6932 - accuracy: 0.4957\n",
      "Epoch 7/100\n",
      "8/8 [==============================] - 0s 2ms/step - loss: 0.6932 - accuracy: 0.4957\n",
      "Epoch 8/100\n",
      "8/8 [==============================] - 0s 2ms/step - loss: 0.6932 - accuracy: 0.4957\n",
      "Epoch 9/100\n",
      "8/8 [==============================] - 0s 3ms/step - loss: 0.6932 - accuracy: 0.4957\n",
      "Epoch 10/100\n",
      "8/8 [==============================] - 0s 3ms/step - loss: 0.6932 - accuracy: 0.4957\n",
      "Epoch 11/100\n",
      "8/8 [==============================] - 0s 1ms/step - loss: 0.6932 - accuracy: 0.4957\n",
      "Epoch 12/100\n",
      "8/8 [==============================] - 0s 3ms/step - loss: 0.6932 - accuracy: 0.4957\n",
      "Epoch 13/100\n",
      "8/8 [==============================] - 0s 2ms/step - loss: 0.6932 - accuracy: 0.4957\n",
      "Epoch 14/100\n",
      "8/8 [==============================] - 0s 533us/step - loss: 0.6932 - accuracy: 0.4957\n",
      "Epoch 15/100\n",
      "8/8 [==============================] - 0s 2ms/step - loss: 0.6932 - accuracy: 0.4957\n",
      "Epoch 16/100\n",
      "8/8 [==============================] - 0s 2ms/step - loss: 0.6932 - accuracy: 0.4957\n",
      "Epoch 17/100\n",
      "8/8 [==============================] - 0s 2ms/step - loss: 0.6932 - accuracy: 0.4957\n",
      "Epoch 18/100\n",
      "8/8 [==============================] - 0s 2ms/step - loss: 0.6932 - accuracy: 0.4957\n",
      "Epoch 19/100\n",
      "8/8 [==============================] - 0s 2ms/step - loss: 0.6932 - accuracy: 0.4957\n",
      "Epoch 20/100\n",
      "8/8 [==============================] - 0s 2ms/step - loss: 0.6932 - accuracy: 0.4957\n",
      "Epoch 21/100\n",
      "8/8 [==============================] - 0s 2ms/step - loss: 0.6932 - accuracy: 0.4957\n",
      "Epoch 22/100\n",
      "8/8 [==============================] - 0s 2ms/step - loss: 0.6932 - accuracy: 0.4957\n",
      "Epoch 23/100\n",
      "8/8 [==============================] - 0s 2ms/step - loss: 0.6932 - accuracy: 0.4957\n",
      "Epoch 24/100\n",
      "8/8 [==============================] - 0s 2ms/step - loss: 0.6932 - accuracy: 0.4440\n",
      "Epoch 25/100\n",
      "8/8 [==============================] - 0s 2ms/step - loss: 0.6931 - accuracy: 0.5043\n",
      "Epoch 26/100\n",
      "8/8 [==============================] - 0s 2ms/step - loss: 0.6931 - accuracy: 0.5043\n",
      "Epoch 27/100\n",
      "8/8 [==============================] - 0s 2ms/step - loss: 0.6931 - accuracy: 0.5043\n",
      "Epoch 28/100\n",
      "8/8 [==============================] - 0s 928us/step - loss: 0.6932 - accuracy: 0.5043\n",
      "Epoch 29/100\n",
      "8/8 [==============================] - 0s 1ms/step - loss: 0.6931 - accuracy: 0.5043\n",
      "Epoch 30/100\n",
      "8/8 [==============================] - 0s 2ms/step - loss: 0.6931 - accuracy: 0.5043\n",
      "Epoch 31/100\n",
      "8/8 [==============================] - 0s 2ms/step - loss: 0.6931 - accuracy: 0.5043\n",
      "Epoch 32/100\n",
      "8/8 [==============================] - 0s 2ms/step - loss: 0.6931 - accuracy: 0.5043\n",
      "Epoch 33/100\n",
      "8/8 [==============================] - 0s 2ms/step - loss: 0.6931 - accuracy: 0.5043\n",
      "Epoch 34/100\n",
      "8/8 [==============================] - 0s 2ms/step - loss: 0.6931 - accuracy: 0.5043\n",
      "Epoch 35/100\n",
      "8/8 [==============================] - 0s 2ms/step - loss: 0.6931 - accuracy: 0.5043\n",
      "Epoch 36/100\n",
      "8/8 [==============================] - 0s 2ms/step - loss: 0.6931 - accuracy: 0.5043\n",
      "Epoch 37/100\n",
      "8/8 [==============================] - 0s 2ms/step - loss: 0.6931 - accuracy: 0.5043\n",
      "Epoch 38/100\n",
      "8/8 [==============================] - 0s 3ms/step - loss: 0.6931 - accuracy: 0.5043\n",
      "Epoch 39/100\n",
      "8/8 [==============================] - 0s 3ms/step - loss: 0.6931 - accuracy: 0.5043\n",
      "Epoch 40/100\n",
      "8/8 [==============================] - 0s 3ms/step - loss: 0.6931 - accuracy: 0.5043\n",
      "Epoch 41/100\n",
      "8/8 [==============================] - 0s 2ms/step - loss: 0.6931 - accuracy: 0.5043\n",
      "Epoch 42/100\n",
      "8/8 [==============================] - 0s 855us/step - loss: 0.6931 - accuracy: 0.5043\n",
      "Epoch 43/100\n",
      "8/8 [==============================] - 0s 976us/step - loss: 0.6931 - accuracy: 0.5043\n",
      "Epoch 44/100\n",
      "8/8 [==============================] - 0s 2ms/step - loss: 0.6931 - accuracy: 0.5043\n",
      "Epoch 45/100\n",
      "8/8 [==============================] - 0s 2ms/step - loss: 0.6931 - accuracy: 0.5043\n",
      "Epoch 46/100\n",
      "8/8 [==============================] - 0s 2ms/step - loss: 0.6931 - accuracy: 0.5043\n",
      "Epoch 47/100\n",
      "8/8 [==============================] - 0s 2ms/step - loss: 0.6931 - accuracy: 0.5043\n",
      "Epoch 48/100\n"
     ]
    },
    {
     "name": "stdout",
     "output_type": "stream",
     "text": [
      "8/8 [==============================] - 0s 2ms/step - loss: 0.6931 - accuracy: 0.5043\n",
      "Epoch 49/100\n",
      "8/8 [==============================] - 0s 2ms/step - loss: 0.6931 - accuracy: 0.5043\n",
      "Epoch 50/100\n",
      "8/8 [==============================] - 0s 2ms/step - loss: 0.6931 - accuracy: 0.5043\n",
      "Epoch 51/100\n",
      "8/8 [==============================] - 0s 2ms/step - loss: 0.6931 - accuracy: 0.5043\n",
      "Epoch 52/100\n",
      "8/8 [==============================] - 0s 2ms/step - loss: 0.6931 - accuracy: 0.5043\n",
      "Epoch 53/100\n",
      "8/8 [==============================] - 0s 2ms/step - loss: 0.6931 - accuracy: 0.5043\n",
      "Epoch 54/100\n",
      "8/8 [==============================] - 0s 3ms/step - loss: 0.6931 - accuracy: 0.5043\n",
      "Epoch 55/100\n",
      "8/8 [==============================] - 0s 2ms/step - loss: 0.6931 - accuracy: 0.5043\n",
      "Epoch 56/100\n",
      "8/8 [==============================] - 0s 2ms/step - loss: 0.6931 - accuracy: 0.5043\n",
      "Epoch 57/100\n",
      "8/8 [==============================] - 0s 2ms/step - loss: 0.6931 - accuracy: 0.5043\n",
      "Epoch 58/100\n",
      "8/8 [==============================] - 0s 2ms/step - loss: 0.6931 - accuracy: 0.5043\n",
      "Epoch 59/100\n",
      "8/8 [==============================] - 0s 2ms/step - loss: 0.6931 - accuracy: 0.5043\n",
      "Epoch 60/100\n",
      "8/8 [==============================] - 0s 2ms/step - loss: 0.6931 - accuracy: 0.5043\n",
      "Epoch 61/100\n",
      "8/8 [==============================] - 0s 2ms/step - loss: 0.6931 - accuracy: 0.5043\n",
      "Epoch 62/100\n",
      "8/8 [==============================] - 0s 2ms/step - loss: 0.6931 - accuracy: 0.5043\n",
      "Epoch 63/100\n",
      "8/8 [==============================] - 0s 2ms/step - loss: 0.6931 - accuracy: 0.5043\n",
      "Epoch 64/100\n",
      "8/8 [==============================] - 0s 2ms/step - loss: 0.6931 - accuracy: 0.5043\n",
      "Epoch 65/100\n",
      "8/8 [==============================] - 0s 2ms/step - loss: 0.6931 - accuracy: 0.5043\n",
      "Epoch 66/100\n",
      "8/8 [==============================] - 0s 2ms/step - loss: 0.6931 - accuracy: 0.5043\n",
      "Epoch 67/100\n",
      "8/8 [==============================] - 0s 1ms/step - loss: 0.6931 - accuracy: 0.5043\n",
      "Epoch 68/100\n",
      "8/8 [==============================] - 0s 2ms/step - loss: 0.6931 - accuracy: 0.5043\n",
      "Epoch 69/100\n",
      "8/8 [==============================] - 0s 2ms/step - loss: 0.6931 - accuracy: 0.5043\n",
      "Epoch 70/100\n",
      "8/8 [==============================] - 0s 2ms/step - loss: 0.6931 - accuracy: 0.5043\n",
      "Epoch 71/100\n",
      "8/8 [==============================] - 0s 2ms/step - loss: 0.6931 - accuracy: 0.5043\n",
      "Epoch 72/100\n",
      "8/8 [==============================] - 0s 3ms/step - loss: 0.6931 - accuracy: 0.5043\n",
      "Epoch 73/100\n",
      "8/8 [==============================] - 0s 2ms/step - loss: 0.6931 - accuracy: 0.5043\n",
      "Epoch 74/100\n",
      "8/8 [==============================] - 0s 2ms/step - loss: 0.6931 - accuracy: 0.5043\n",
      "Epoch 75/100\n",
      "8/8 [==============================] - 0s 2ms/step - loss: 0.6931 - accuracy: 0.5043\n",
      "Epoch 76/100\n",
      "8/8 [==============================] - 0s 2ms/step - loss: 0.6931 - accuracy: 0.5043\n",
      "Epoch 77/100\n",
      "8/8 [==============================] - 0s 2ms/step - loss: 0.6931 - accuracy: 0.5043\n",
      "Epoch 78/100\n",
      "8/8 [==============================] - 0s 2ms/step - loss: 0.6931 - accuracy: 0.5043\n",
      "Epoch 79/100\n",
      "8/8 [==============================] - 0s 2ms/step - loss: 0.6931 - accuracy: 0.5043\n",
      "Epoch 80/100\n",
      "8/8 [==============================] - 0s 2ms/step - loss: 0.6931 - accuracy: 0.5043\n",
      "Epoch 81/100\n",
      "8/8 [==============================] - 0s 2ms/step - loss: 0.6931 - accuracy: 0.5043\n",
      "Epoch 82/100\n",
      "8/8 [==============================] - 0s 2ms/step - loss: 0.6931 - accuracy: 0.5043\n",
      "Epoch 83/100\n",
      "8/8 [==============================] - 0s 2ms/step - loss: 0.6931 - accuracy: 0.5043\n",
      "Epoch 84/100\n",
      "8/8 [==============================] - 0s 2ms/step - loss: 0.6932 - accuracy: 0.5043\n",
      "Epoch 85/100\n",
      "8/8 [==============================] - 0s 2ms/step - loss: 0.6931 - accuracy: 0.5043\n",
      "Epoch 86/100\n",
      "8/8 [==============================] - 0s 2ms/step - loss: 0.6931 - accuracy: 0.5043\n",
      "Epoch 87/100\n",
      "8/8 [==============================] - 0s 2ms/step - loss: 0.6931 - accuracy: 0.5043\n",
      "Epoch 88/100\n",
      "8/8 [==============================] - 0s 2ms/step - loss: 0.6931 - accuracy: 0.5043\n",
      "Epoch 89/100\n",
      "8/8 [==============================] - 0s 2ms/step - loss: 0.6931 - accuracy: 0.5043\n",
      "Epoch 90/100\n",
      "8/8 [==============================] - 0s 2ms/step - loss: 0.6931 - accuracy: 0.5043\n",
      "Epoch 91/100\n",
      "8/8 [==============================] - 0s 2ms/step - loss: 0.6931 - accuracy: 0.5043\n",
      "Epoch 92/100\n",
      "8/8 [==============================] - 0s 3ms/step - loss: 0.6931 - accuracy: 0.5043\n",
      "Epoch 93/100\n",
      "8/8 [==============================] - 0s 1ms/step - loss: 0.6931 - accuracy: 0.5043\n",
      "Epoch 94/100\n",
      "8/8 [==============================] - 0s 1ms/step - loss: 0.6931 - accuracy: 0.5043\n",
      "Epoch 95/100\n",
      "8/8 [==============================] - 0s 1ms/step - loss: 0.6931 - accuracy: 0.5043\n",
      "Epoch 96/100\n",
      "8/8 [==============================] - 0s 2ms/step - loss: 0.6931 - accuracy: 0.5043\n",
      "Epoch 97/100\n",
      "8/8 [==============================] - 0s 2ms/step - loss: 0.6931 - accuracy: 0.5043\n",
      "Epoch 98/100\n",
      "8/8 [==============================] - 0s 2ms/step - loss: 0.6931 - accuracy: 0.5043\n",
      "Epoch 99/100\n",
      "8/8 [==============================] - 0s 2ms/step - loss: 0.6931 - accuracy: 0.5043\n",
      "Epoch 100/100\n",
      "8/8 [==============================] - 0s 2ms/step - loss: 0.6931 - accuracy: 0.5043\n",
      "4/4 [==============================] - 0s 3ms/step - loss: 0.6934 - accuracy: 0.4741\n",
      "Accuracy mean: 0.7988505860169729\n",
      "Accuracy variance: 0.23027984094617027\n"
     ]
    }
   ],
   "source": [
    "# Evaluating the ANN\n",
    "from keras.wrappers.scikit_learn import KerasClassifier\n",
    "from sklearn.model_selection import cross_val_score\n",
    "from keras.models import Sequential   # initialize neural network library\n",
    "from keras.layers import Dense    # build our layers library\n",
    "\n",
    "def build_classifier():\n",
    "    classifier = Sequential()  # initialize neural network\n",
    "    # there are 8 nodes in first hidden layer\n",
    "    classifier.add(Dense(units = 8, kernel_initializer = 'uniform', activation = 'relu', input_dim = x_train.shape[1]))\n",
    "    # there are 4 nodes in second hidden layer\n",
    "    classifier.add(Dense(units = 4, kernel_initializer = 'uniform', activation = 'relu'))\n",
    "    # there are 1 node in third hidden layer and this is output layer\n",
    "    classifier.add(Dense(units = 1, kernel_initializer = 'uniform', activation = 'sigmoid'))\n",
    "    classifier.compile(optimizer = 'adam', loss = 'binary_crossentropy', metrics = ['accuracy'])\n",
    "    return classifier\n",
    "\n",
    "classifier = KerasClassifier(build_fn = build_classifier, epochs = 100)\n",
    "accuracies = cross_val_score(estimator = classifier, X = x_train, y = y_train, cv = 3)\n",
    "mean = accuracies.mean()\n",
    "variance = accuracies.std()\n",
    "print('Accuracy mean: '+ str(mean))\n",
    "print('Accuracy variance: '+ str(variance))"
   ]
  },
  {
   "cell_type": "markdown",
   "id": "bc5b96d8",
   "metadata": {},
   "source": [
    "#### Neural network with Pytorch"
   ]
  },
  {
   "cell_type": "code",
   "execution_count": null,
   "id": "8ad4edf3",
   "metadata": {},
   "outputs": [],
   "source": []
  }
 ],
 "metadata": {
  "kernelspec": {
   "display_name": "Python 3 (ipykernel)",
   "language": "python",
   "name": "python3"
  },
  "language_info": {
   "codemirror_mode": {
    "name": "ipython",
    "version": 3
   },
   "file_extension": ".py",
   "mimetype": "text/x-python",
   "name": "python",
   "nbconvert_exporter": "python",
   "pygments_lexer": "ipython3",
   "version": "3.9.13"
  }
 },
 "nbformat": 4,
 "nbformat_minor": 5
}
